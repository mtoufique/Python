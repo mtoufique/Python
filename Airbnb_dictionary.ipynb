{
 "cells": [
  {
   "cell_type": "code",
   "execution_count": 2,
   "id": "ca798d6e",
   "metadata": {},
   "outputs": [],
   "source": [
    "inpt_dates=['01-01-2020','23-03-2022','11-06-2023','12-12-2020']"
   ]
  },
  {
   "cell_type": "code",
   "execution_count": 8,
   "id": "1ca27d09",
   "metadata": {},
   "outputs": [
    {
     "data": {
      "text/plain": [
       "'03'"
      ]
     },
     "execution_count": 8,
     "metadata": {},
     "output_type": "execute_result"
    }
   ],
   "source": [
    "inpt_dates[1][3:5]"
   ]
  },
  {
   "cell_type": "code",
   "execution_count": 12,
   "id": "5700f8d8",
   "metadata": {},
   "outputs": [],
   "source": [
    "dim_dict={'01':'Jan',\n",
    "          '02':'Feb',\n",
    "          '03':'Mar',\n",
    "         '04':'Apr',\n",
    "          '05':'May','06':\n",
    "          'Jun','07':\n",
    "          'Jul','08':\n",
    "          'Aug','09':\n",
    "          'Sep','10':'Oct',\n",
    "          '11':'Nov',\n",
    "          '12':'Dec'}"
   ]
  },
  {
   "cell_type": "code",
   "execution_count": 13,
   "id": "50dc71f7",
   "metadata": {},
   "outputs": [
    {
     "data": {
      "text/plain": [
       "{'01': 'Jan',\n",
       " '02': 'Feb',\n",
       " '03': 'Mar',\n",
       " '04': 'Apr',\n",
       " '05': 'May',\n",
       " '06': 'Jun',\n",
       " '07': 'Jul',\n",
       " '08': 'Aug',\n",
       " '09': 'Sep',\n",
       " '10': 'Oct',\n",
       " '11': 'Nov',\n",
       " '12': 'Dec'}"
      ]
     },
     "execution_count": 13,
     "metadata": {},
     "output_type": "execute_result"
    }
   ],
   "source": [
    "dim_dict"
   ]
  },
  {
   "cell_type": "code",
   "execution_count": 22,
   "id": "707d52b3",
   "metadata": {},
   "outputs": [
    {
     "name": "stdout",
     "output_type": "stream",
     "text": [
      "01-Jan-2020\n",
      "23-Mar-2022\n",
      "11-Jun-2023\n",
      "12-Nov-2020\n"
     ]
    }
   ],
   "source": [
    "dim_dict={'01':'Jan',\n",
    "          '02':'Feb',\n",
    "          '03':'Mar',\n",
    "         '04':'Apr',\n",
    "          '05':'May','06':\n",
    "          'Jun','07':\n",
    "          'Jul','08':\n",
    "          'Aug','09':\n",
    "          'Sep','10':'Oct',\n",
    "          '11':'Nov',\n",
    "          '12':'Dec'}\n",
    "def month_name(inpt_dates):\n",
    "    for i in inpt_dates:\n",
    "        for j in dim_dict.keys():\n",
    "            if(j==i[3:5]):\n",
    "                print(i[0:3]+dim_dict[j]+i[5:])\n",
    "month_name(inpt_dates=['01-01-2020','23-03-2022','11-06-2023','12-11-2020'])"
   ]
  },
  {
   "cell_type": "code",
   "execution_count": null,
   "id": "7d283756",
   "metadata": {},
   "outputs": [],
   "source": []
  }
 ],
 "metadata": {
  "kernelspec": {
   "display_name": "Python 3 (ipykernel)",
   "language": "python",
   "name": "python3"
  },
  "language_info": {
   "codemirror_mode": {
    "name": "ipython",
    "version": 3
   },
   "file_extension": ".py",
   "mimetype": "text/x-python",
   "name": "python",
   "nbconvert_exporter": "python",
   "pygments_lexer": "ipython3",
   "version": "3.9.13"
  }
 },
 "nbformat": 4,
 "nbformat_minor": 5
}
