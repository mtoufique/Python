{
 "cells": [
  {
   "cell_type": "code",
   "execution_count": 9,
   "id": "221254d3",
   "metadata": {},
   "outputs": [],
   "source": [
    "str_1='silent'\n",
    "str_2='sile'"
   ]
  },
  {
   "cell_type": "code",
   "execution_count": null,
   "id": "7bf831f4",
   "metadata": {},
   "outputs": [],
   "source": [
    "if len(str_1)==len(str_2):\n",
    "    "
   ]
  },
  {
   "cell_type": "code",
   "execution_count": 25,
   "id": "ed236d5b",
   "metadata": {},
   "outputs": [],
   "source": [
    "a=list(str_1)\n",
    "b=list(str_2)"
   ]
  },
  {
   "cell_type": "code",
   "execution_count": 18,
   "id": "7f92d246",
   "metadata": {},
   "outputs": [],
   "source": [
    "a.sort()"
   ]
  },
  {
   "cell_type": "code",
   "execution_count": 19,
   "id": "d30ae6d0",
   "metadata": {},
   "outputs": [
    {
     "data": {
      "text/plain": [
       "['e', 'i', 'l', 'n', 's', 't']"
      ]
     },
     "execution_count": 19,
     "metadata": {},
     "output_type": "execute_result"
    }
   ],
   "source": [
    "a"
   ]
  },
  {
   "cell_type": "code",
   "execution_count": 20,
   "id": "53106ed4",
   "metadata": {},
   "outputs": [],
   "source": [
    "b.sort()"
   ]
  },
  {
   "cell_type": "code",
   "execution_count": 21,
   "id": "151e9b1d",
   "metadata": {},
   "outputs": [
    {
     "data": {
      "text/plain": [
       "['e', 'i', 'l', 'n', 's', 't']"
      ]
     },
     "execution_count": 21,
     "metadata": {},
     "output_type": "execute_result"
    }
   ],
   "source": [
    "b"
   ]
  },
  {
   "cell_type": "code",
   "execution_count": 24,
   "id": "3b059b99",
   "metadata": {},
   "outputs": [
    {
     "data": {
      "text/plain": [
       "True"
      ]
     },
     "execution_count": 24,
     "metadata": {},
     "output_type": "execute_result"
    }
   ],
   "source": [
    "a==b"
   ]
  },
  {
   "cell_type": "code",
   "execution_count": 18,
   "id": "50fd46ef",
   "metadata": {},
   "outputs": [],
   "source": [
    "def anagram(str_1,str_2):\n",
    "    list(str_1).sort()\n",
    "    list(str_2).sort()\n",
    "    if str_1==str_2:\n",
    "        print('The strings are anagaram')\n",
    "    else:\n",
    "        print('The strings are not anagaram')"
   ]
  },
  {
   "cell_type": "code",
   "execution_count": 19,
   "id": "f0db21d8",
   "metadata": {},
   "outputs": [
    {
     "name": "stdout",
     "output_type": "stream",
     "text": [
      "The strings are not anagaram\n"
     ]
    }
   ],
   "source": [
    "anagram('silent','silentrdd')"
   ]
  },
  {
   "cell_type": "code",
   "execution_count": null,
   "id": "986e857f",
   "metadata": {},
   "outputs": [],
   "source": []
  },
  {
   "cell_type": "code",
   "execution_count": 10,
   "id": "808ece42",
   "metadata": {},
   "outputs": [],
   "source": [
    "def anagram_2(str_1,str_2):\n",
    "    if sorted(str_1)==sorted(str_2):\n",
    "        print('The strings are anagaram')\n",
    "    else:\n",
    "        print('The strings are not anagaram')"
   ]
  },
  {
   "cell_type": "code",
   "execution_count": 17,
   "id": "89d583d5",
   "metadata": {},
   "outputs": [
    {
     "name": "stdout",
     "output_type": "stream",
     "text": [
      "None\n"
     ]
    }
   ],
   "source": [
    "print(list('silent').sort())"
   ]
  },
  {
   "cell_type": "code",
   "execution_count": 11,
   "id": "9dfb5a25",
   "metadata": {},
   "outputs": [
    {
     "name": "stdout",
     "output_type": "stream",
     "text": [
      "The strings are not anagaram\n"
     ]
    }
   ],
   "source": [
    "anagram_2('silent','silentrrteddd')"
   ]
  },
  {
   "cell_type": "code",
   "execution_count": 8,
   "id": "a9ef5c2d",
   "metadata": {},
   "outputs": [
    {
     "data": {
      "text/plain": [
       "['a', 'e']"
      ]
     },
     "execution_count": 8,
     "metadata": {},
     "output_type": "execute_result"
    }
   ],
   "source": [
    "sorted('ae')"
   ]
  },
  {
   "cell_type": "code",
   "execution_count": 40,
   "id": "3104a25c",
   "metadata": {},
   "outputs": [
    {
     "name": "stdout",
     "output_type": "stream",
     "text": [
      "['a', 'o', 'z']\n"
     ]
    }
   ],
   "source": [
    "a=('a','z','o')\n",
    "print(sorted(a))"
   ]
  },
  {
   "cell_type": "code",
   "execution_count": 41,
   "id": "2a4910ca",
   "metadata": {},
   "outputs": [
    {
     "name": "stdout",
     "output_type": "stream",
     "text": [
      "['a', 'o', 'z']\n"
     ]
    }
   ],
   "source": [
    "a=['a','z','o']\n",
    "print(sorted(a))"
   ]
  },
  {
   "cell_type": "code",
   "execution_count": 42,
   "id": "250e263e",
   "metadata": {},
   "outputs": [
    {
     "ename": "TypeError",
     "evalue": "unhashable type: 'list'",
     "output_type": "error",
     "traceback": [
      "\u001b[1;31m---------------------------------------------------------------------------\u001b[0m",
      "\u001b[1;31mTypeError\u001b[0m                                 Traceback (most recent call last)",
      "\u001b[1;32m~\\AppData\\Local\\Temp\\ipykernel_18604\\2687419777.py\u001b[0m in \u001b[0;36m<module>\u001b[1;34m\u001b[0m\n\u001b[1;32m----> 1\u001b[1;33m \u001b[0ma\u001b[0m\u001b[1;33m=\u001b[0m\u001b[1;33m{\u001b[0m\u001b[0ma\u001b[0m\u001b[1;33m:\u001b[0m\u001b[1;36m2\u001b[0m\u001b[1;33m,\u001b[0m\u001b[0mb\u001b[0m\u001b[1;33m:\u001b[0m\u001b[1;36m3\u001b[0m\u001b[1;33m}\u001b[0m\u001b[1;33m\u001b[0m\u001b[1;33m\u001b[0m\u001b[0m\n\u001b[0m\u001b[0;32m      2\u001b[0m \u001b[0mprint\u001b[0m\u001b[1;33m(\u001b[0m\u001b[0msorted\u001b[0m\u001b[1;33m(\u001b[0m\u001b[0ma\u001b[0m\u001b[1;33m)\u001b[0m\u001b[1;33m)\u001b[0m\u001b[1;33m\u001b[0m\u001b[1;33m\u001b[0m\u001b[0m\n",
      "\u001b[1;31mTypeError\u001b[0m: unhashable type: 'list'"
     ]
    }
   ],
   "source": [
    "a={a:2,b:3}\n",
    "print(sorted(a))"
   ]
  },
  {
   "cell_type": "code",
   "execution_count": null,
   "id": "caa240ac",
   "metadata": {},
   "outputs": [],
   "source": []
  }
 ],
 "metadata": {
  "kernelspec": {
   "display_name": "Python 3 (ipykernel)",
   "language": "python",
   "name": "python3"
  },
  "language_info": {
   "codemirror_mode": {
    "name": "ipython",
    "version": 3
   },
   "file_extension": ".py",
   "mimetype": "text/x-python",
   "name": "python",
   "nbconvert_exporter": "python",
   "pygments_lexer": "ipython3",
   "version": "3.9.13"
  }
 },
 "nbformat": 4,
 "nbformat_minor": 5
}
